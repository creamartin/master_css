{
 "cells": [
  {
   "cell_type": "code",
   "execution_count": 1,
   "metadata": {},
   "outputs": [],
   "source": [
    "import pandas as pd\n",
    "\n",
    "bgg_GameItem = pd.read_csv('bgg_raw/bgg_GameItem.csv')\n",
    "bgg_Person = pd.read_csv('bgg_raw/bgg_Person.csv')\n",
    "# bgg_Category = pd.read_csv('bgg_raw/bgg_Category.csv')\n",
    "# bgg_GameFamily = pd.read_csv('bgg_raw/bgg_GameFamily.csv')\n",
    "# bgg_GameType = pd.read_csv('bgg_raw/bgg_GameType.csv')\n",
    "# bgg_Mechanic = pd.read_csv('bgg_raw/bgg_Mechanic.csv')\n",
    "#bgg_Publisher = pd.read_csv('bgg_raw/bgg_Publisher.csv')"
   ]
  },
  {
   "cell_type": "code",
   "execution_count": 2,
   "metadata": {},
   "outputs": [],
   "source": [
    "# all game variables\n",
    "game_covariates = [\n",
    "#'num_votes',\n",
    "#'avg_rating',\n",
    "#'stddev_rating',\n",
    "#'rank',\n",
    "'bayes_rating',\n",
    "#\"novelty\",\n",
    "'name',\n",
    "'year',\n",
    "'bgg_id',\n",
    "'mechanic',\n",
    "'designer',\n",
    "'complexity',\n",
    "#'category',\n",
    "'game_type',\n",
    "'min_players',\n",
    "'max_players',\n",
    "# 'publisher',\n",
    "# 'min_players_rec',\n",
    "# 'max_players_rec',\n",
    "# 'min_players_best',\n",
    "# 'max_players_best',\n",
    " 'min_age',\n",
    "# 'min_age_rec',\n",
    "# 'min_time',\n",
    "# 'max_time',\n",
    "# 'cooperative',\n",
    "# 'family',\n",
    "# 'language_dependency',\n",
    "# 'artist',\n",
    "# # filter out ?\n",
    "# 'compilation',\n",
    "#'compilation_of',\n",
    "# 'implementation',\n",
    "# 'integration',\n",
    "#  'bga_id',\n",
    "# 'dbpedia_id',\n",
    "# 'luding_id',\n",
    "# 'spielen_id',\n",
    "# 'wikidata_id',\n",
    "# 'wikipedia_id'\n",
    "#\n",
    "]"
   ]
  },
  {
   "cell_type": "markdown",
   "metadata": {},
   "source": [
    "<h1>Cleaning</h1>"
   ]
  },
  {
   "cell_type": "code",
   "execution_count": 3,
   "metadata": {},
   "outputs": [],
   "source": [
    "core = bgg_GameItem.copy()\n",
    "core['mechanic'] = core.mechanic.str.split(\",\").map(lambda x: tuple(sorted(set(x))),na_action=\"ignore\")\n",
    "\n",
    "#filter out trivial reimplementations: those reimplementations of previously made games which do not change their mechanics.\n",
    "lut_mechanic = core[[\"bgg_id\",\"mechanic\"]].set_index(\"bgg_id\").mechanic.to_dict()\n",
    "core['implementation'] = core.implementation.str.split(\",\")\n",
    "expansions = core[~core.implementation.isna()][[\"bgg_id\",\"mechanic\",\"implementation\"]].explode(\"implementation\")\n",
    "expansions.implementation = expansions.implementation.astype(int)\n",
    "expansions[\"primitive\"] = expansions.apply(lambda x: lut_mechanic.get(x[\"implementation\"],-1)==x[\"mechanic\"],axis=1)\n",
    "expansions = expansions.sort_values(\"primitive\",ascending=False).drop_duplicates(\"bgg_id\")\n",
    "primitive_reimplementations = expansions[expansions.primitive].bgg_id.values.tolist()\n",
    "\n",
    "#filter out trivial expansions: those expansions of previously made games which do not change their mechanics.\n",
    "lut_mechanic = core[[\"bgg_id\",\"mechanic\"]].set_index(\"bgg_id\").mechanic.to_dict()\n",
    "expansions = core[[\"bgg_id\",\"mechanic\",\"integration\"]].copy()\n",
    "expansions['integration'] = expansions.integration.str.split(\",\")\n",
    "expansions = expansions[~expansions.integration.isna()].explode(\"integration\")\n",
    "expansions.integration = expansions.integration.astype(int)\n",
    "expansions[\"primitive\"] = expansions.apply(lambda x: lut_mechanic.get(x[\"integration\"],-1)==x[\"mechanic\"],axis=1)\n",
    "expansions = expansions.sort_values(\"primitive\",ascending=False).drop_duplicates(\"bgg_id\")\n",
    "primitive_expansions = expansions[expansions.primitive].bgg_id.values.tolist()\n",
    "#apply filter jointly\n",
    "core = core[~core.bgg_id.isin(primitive_reimplementations+primitive_expansions)]\n",
    "\n",
    "\n",
    "# Team must include (credited) designer\n",
    "core = core[core.designer.notna()]  \n",
    "core['designer'] = core.designer.str.split(\",\")\n",
    "core['designer'] = core['designer'].map(lambda x: sorted([d for d in x if d != \"3\"])) # 3 is uncredited\n",
    "core['designer'] = core['designer'].map(lambda x: x if x else pd.NA)\n",
    "core = core[core.designer.notna()]\n",
    "\n",
    "core = core[core.mechanic.notna()]  # Must include mechanics\n",
    "core = core[core.bayes_rating.notna()]  # At least 30 ratings\n",
    "core = core[(core.year >= 1990) & (core.year < 2024)]  # Only games between 1990 and 2023\n",
    "core.year = core.year.astype(int) \n",
    "core = core[game_covariates]\n",
    "core = core.rename({\"bayes_rating\":\"rating\"},axis=1)\n",
    "core = core.sort_values(\"year\").reset_index(drop=True)\n",
    "#core = core[core.mechanic.map(len)<5]"
   ]
  },
  {
   "cell_type": "code",
   "execution_count": 4,
   "metadata": {},
   "outputs": [
    {
     "data": {
      "text/html": [
       "<div>\n",
       "<style scoped>\n",
       "    .dataframe tbody tr th:only-of-type {\n",
       "        vertical-align: middle;\n",
       "    }\n",
       "\n",
       "    .dataframe tbody tr th {\n",
       "        vertical-align: top;\n",
       "    }\n",
       "\n",
       "    .dataframe thead th {\n",
       "        text-align: right;\n",
       "    }\n",
       "</style>\n",
       "<table border=\"1\" class=\"dataframe\">\n",
       "  <thead>\n",
       "    <tr style=\"text-align: right;\">\n",
       "      <th></th>\n",
       "      <th>count</th>\n",
       "      <th>proportion</th>\n",
       "    </tr>\n",
       "    <tr>\n",
       "      <th>designer</th>\n",
       "      <th></th>\n",
       "      <th></th>\n",
       "    </tr>\n",
       "  </thead>\n",
       "  <tbody>\n",
       "    <tr>\n",
       "      <th>1</th>\n",
       "      <td>13275</td>\n",
       "      <td>0.699605</td>\n",
       "    </tr>\n",
       "    <tr>\n",
       "      <th>2</th>\n",
       "      <td>4315</td>\n",
       "      <td>0.927009</td>\n",
       "    </tr>\n",
       "    <tr>\n",
       "      <th>3</th>\n",
       "      <td>980</td>\n",
       "      <td>0.978656</td>\n",
       "    </tr>\n",
       "    <tr>\n",
       "      <th>4</th>\n",
       "      <td>242</td>\n",
       "      <td>0.991410</td>\n",
       "    </tr>\n",
       "    <tr>\n",
       "      <th>5</th>\n",
       "      <td>88</td>\n",
       "      <td>0.996047</td>\n",
       "    </tr>\n",
       "    <tr>\n",
       "      <th>7</th>\n",
       "      <td>28</td>\n",
       "      <td>0.997523</td>\n",
       "    </tr>\n",
       "    <tr>\n",
       "      <th>6</th>\n",
       "      <td>25</td>\n",
       "      <td>0.998841</td>\n",
       "    </tr>\n",
       "    <tr>\n",
       "      <th>9</th>\n",
       "      <td>6</td>\n",
       "      <td>0.999157</td>\n",
       "    </tr>\n",
       "    <tr>\n",
       "      <th>8</th>\n",
       "      <td>6</td>\n",
       "      <td>0.999473</td>\n",
       "    </tr>\n",
       "    <tr>\n",
       "      <th>11</th>\n",
       "      <td>4</td>\n",
       "      <td>0.999684</td>\n",
       "    </tr>\n",
       "    <tr>\n",
       "      <th>26</th>\n",
       "      <td>1</td>\n",
       "      <td>0.999736</td>\n",
       "    </tr>\n",
       "    <tr>\n",
       "      <th>10</th>\n",
       "      <td>1</td>\n",
       "      <td>0.999789</td>\n",
       "    </tr>\n",
       "    <tr>\n",
       "      <th>18</th>\n",
       "      <td>1</td>\n",
       "      <td>0.999842</td>\n",
       "    </tr>\n",
       "    <tr>\n",
       "      <th>21</th>\n",
       "      <td>1</td>\n",
       "      <td>0.999895</td>\n",
       "    </tr>\n",
       "    <tr>\n",
       "      <th>16</th>\n",
       "      <td>1</td>\n",
       "      <td>0.999947</td>\n",
       "    </tr>\n",
       "    <tr>\n",
       "      <th>13</th>\n",
       "      <td>1</td>\n",
       "      <td>1.000000</td>\n",
       "    </tr>\n",
       "  </tbody>\n",
       "</table>\n",
       "</div>"
      ],
      "text/plain": [
       "          count  proportion\n",
       "designer                   \n",
       "1         13275    0.699605\n",
       "2          4315    0.927009\n",
       "3           980    0.978656\n",
       "4           242    0.991410\n",
       "5            88    0.996047\n",
       "7            28    0.997523\n",
       "6            25    0.998841\n",
       "9             6    0.999157\n",
       "8             6    0.999473\n",
       "11            4    0.999684\n",
       "26            1    0.999736\n",
       "10            1    0.999789\n",
       "18            1    0.999842\n",
       "21            1    0.999895\n",
       "16            1    0.999947\n",
       "13            1    1.000000"
      ]
     },
     "execution_count": 4,
     "metadata": {},
     "output_type": "execute_result"
    }
   ],
   "source": [
    "# Concatenate value counts of designer lengths\n",
    "designer_length_counts = core.designer.map(len).value_counts()\n",
    "designer_length_counts_normalized = core.designer.map(len).value_counts(normalize=True).cumsum()\n",
    "result = pd.concat([designer_length_counts, designer_length_counts_normalized], axis=1)\n",
    "\n",
    "# Display the result\n",
    "result"
   ]
  },
  {
   "cell_type": "code",
   "execution_count": 5,
   "metadata": {},
   "outputs": [],
   "source": [
    "core = core[core.designer.map(len) <= 9]  # Limit the number of designers to 9 => 99.9%\n"
   ]
  },
  {
   "cell_type": "markdown",
   "metadata": {},
   "source": [
    "<h1>Data Preparation"
   ]
  },
  {
   "cell_type": "markdown",
   "metadata": {},
   "source": [
    "<h4>Gender Inference"
   ]
  },
  {
   "cell_type": "code",
   "execution_count": 6,
   "metadata": {},
   "outputs": [
    {
     "data": {
      "text/plain": [
       "count     45251.0\n",
       "mean     0.796424\n",
       "std      0.402661\n",
       "min           0.0\n",
       "25%           1.0\n",
       "50%           1.0\n",
       "75%           1.0\n",
       "max           1.0\n",
       "Name: is_man, dtype: Float64"
      ]
     },
     "execution_count": 6,
     "metadata": {},
     "output_type": "execute_result"
    }
   ],
   "source": [
    "import sys\n",
    "import os\n",
    "\n",
    "module_path = os.path.abspath(os.path.join('infer_gender'))\n",
    "if module_path not in sys.path:\n",
    "    sys.path.append(module_path)\n",
    "\n",
    "import gender_inference as gi  # type: ignore\n",
    "import pandas as pd\n",
    "\n",
    "bgg_person_path = './bgg_raw/bgg_Person.csv'\n",
    "bgg_person = pd.read_csv(bgg_person_path)\n",
    "bgg_person['is_man'] = gi.infer_gender(bgg_person['name'])\n",
    "bgg_person.is_man.convert_dtypes().describe()"
   ]
  },
  {
   "cell_type": "markdown",
   "metadata": {},
   "source": [
    "<h4>Compute Novelties"
   ]
  },
  {
   "cell_type": "code",
   "execution_count": 7,
   "metadata": {},
   "outputs": [],
   "source": [
    "import pandas as pd\n",
    "import novelty_computation as nc\n",
    "import numpy as np\n",
    "\n",
    "data = core[[\"bgg_id\",\"year\",\"mechanic\"]].values\n",
    "dummies, lut = nc.compute_dummies(data)\n",
    "dist_matrix = nc.compute_distance_matrix(dummies)\n",
    "novelty = nc.compute_novelty(data, dist_matrix, lut,normalize=False)\n",
    "novelty = novelty.set_index(\"id\").novelty"
   ]
  },
  {
   "cell_type": "code",
   "execution_count": 8,
   "metadata": {},
   "outputs": [],
   "source": [
    "novelty_dict = novelty.to_dict()\n",
    "core[\"novelty\"] = core.bgg_id.map(novelty_dict)\n",
    "core[\"log_novelty\"] = core[\"novelty\"].map(np.log)\n"
   ]
  },
  {
   "cell_type": "code",
   "execution_count": 9,
   "metadata": {},
   "outputs": [],
   "source": [
    "core.round(2).sort_values(\"year\").to_csv(\"bgg.csv\",index=False)"
   ]
  },
  {
   "cell_type": "markdown",
   "metadata": {},
   "source": [
    "<h1> Eventnet Format\n"
   ]
  },
  {
   "cell_type": "code",
   "execution_count": 10,
   "metadata": {},
   "outputs": [
    {
     "data": {
      "text/html": [
       "<div>\n",
       "<style scoped>\n",
       "    .dataframe tbody tr th:only-of-type {\n",
       "        vertical-align: middle;\n",
       "    }\n",
       "\n",
       "    .dataframe tbody tr th {\n",
       "        vertical-align: top;\n",
       "    }\n",
       "\n",
       "    .dataframe thead th {\n",
       "        text-align: right;\n",
       "    }\n",
       "</style>\n",
       "<table border=\"1\" class=\"dataframe\">\n",
       "  <thead>\n",
       "    <tr style=\"text-align: right;\">\n",
       "      <th></th>\n",
       "      <th>year</th>\n",
       "      <th>designer</th>\n",
       "      <th>event</th>\n",
       "    </tr>\n",
       "  </thead>\n",
       "  <tbody>\n",
       "    <tr>\n",
       "      <th>0</th>\n",
       "      <td>1990</td>\n",
       "      <td>1718</td>\n",
       "      <td>add_designer</td>\n",
       "    </tr>\n",
       "    <tr>\n",
       "      <th>1</th>\n",
       "      <td>1990</td>\n",
       "      <td>1747</td>\n",
       "      <td>add_designer</td>\n",
       "    </tr>\n",
       "  </tbody>\n",
       "</table>\n",
       "</div>"
      ],
      "text/plain": [
       "   year designer         event\n",
       "0  1990     1718  add_designer\n",
       "1  1990     1747  add_designer"
      ]
     },
     "execution_count": 10,
     "metadata": {},
     "output_type": "execute_result"
    }
   ],
   "source": [
    "dummy_designer = core.set_index(\"year\").sort_index()[\"designer\"].explode().drop_duplicates().reset_index()\n",
    "dummy_designer[\"event\"] = \"add_designer\"\n",
    "#dummy_designer[\"year\"] = dummy_designer[\"year\"] - 1\n",
    "dummy_designer.head(2)"
   ]
  },
  {
   "cell_type": "code",
   "execution_count": 11,
   "metadata": {},
   "outputs": [
    {
     "data": {
      "text/html": [
       "<div>\n",
       "<style scoped>\n",
       "    .dataframe tbody tr th:only-of-type {\n",
       "        vertical-align: middle;\n",
       "    }\n",
       "\n",
       "    .dataframe tbody tr th {\n",
       "        vertical-align: top;\n",
       "    }\n",
       "\n",
       "    .dataframe thead th {\n",
       "        text-align: right;\n",
       "    }\n",
       "</style>\n",
       "<table border=\"1\" class=\"dataframe\">\n",
       "  <thead>\n",
       "    <tr style=\"text-align: right;\">\n",
       "      <th></th>\n",
       "      <th>year</th>\n",
       "      <th>mechanic</th>\n",
       "      <th>event</th>\n",
       "    </tr>\n",
       "  </thead>\n",
       "  <tbody>\n",
       "    <tr>\n",
       "      <th>0</th>\n",
       "      <td>1990</td>\n",
       "      <td>2026</td>\n",
       "      <td>add_mechanic</td>\n",
       "    </tr>\n",
       "    <tr>\n",
       "      <th>1</th>\n",
       "      <td>1990</td>\n",
       "      <td>2070</td>\n",
       "      <td>add_mechanic</td>\n",
       "    </tr>\n",
       "  </tbody>\n",
       "</table>\n",
       "</div>"
      ],
      "text/plain": [
       "   year mechanic         event\n",
       "0  1990     2026  add_mechanic\n",
       "1  1990     2070  add_mechanic"
      ]
     },
     "execution_count": 11,
     "metadata": {},
     "output_type": "execute_result"
    }
   ],
   "source": [
    "dummy_mechanic = core.set_index(\"year\").sort_index()[\"mechanic\"].explode().drop_duplicates().reset_index()\n",
    "dummy_mechanic[\"event\"]= \"add_mechanic\"\n",
    "#dummy_mechanic[\"year\"] = dummy_mechanic[\"year\"] - 1\n",
    "dummy_mechanic.head(2)"
   ]
  },
  {
   "cell_type": "code",
   "execution_count": 12,
   "metadata": {},
   "outputs": [
    {
     "data": {
      "text/html": [
       "<div>\n",
       "<style scoped>\n",
       "    .dataframe tbody tr th:only-of-type {\n",
       "        vertical-align: middle;\n",
       "    }\n",
       "\n",
       "    .dataframe tbody tr th {\n",
       "        vertical-align: top;\n",
       "    }\n",
       "\n",
       "    .dataframe thead th {\n",
       "        text-align: right;\n",
       "    }\n",
       "</style>\n",
       "<table border=\"1\" class=\"dataframe\">\n",
       "  <thead>\n",
       "    <tr style=\"text-align: right;\">\n",
       "      <th></th>\n",
       "      <th>year</th>\n",
       "      <th>designer</th>\n",
       "      <th>event</th>\n",
       "      <th>weight</th>\n",
       "    </tr>\n",
       "  </thead>\n",
       "  <tbody>\n",
       "    <tr>\n",
       "      <th>0</th>\n",
       "      <td>1990</td>\n",
       "      <td>1718</td>\n",
       "      <td>add_gender</td>\n",
       "      <td>0</td>\n",
       "    </tr>\n",
       "    <tr>\n",
       "      <th>1</th>\n",
       "      <td>1990</td>\n",
       "      <td>1747</td>\n",
       "      <td>add_gender</td>\n",
       "      <td>1</td>\n",
       "    </tr>\n",
       "  </tbody>\n",
       "</table>\n",
       "</div>"
      ],
      "text/plain": [
       "   year designer       event  weight\n",
       "0  1990     1718  add_gender       0\n",
       "1  1990     1747  add_gender       1"
      ]
     },
     "execution_count": 12,
     "metadata": {},
     "output_type": "execute_result"
    }
   ],
   "source": [
    "gender_dict = bgg_person.set_index(\"bgg_id\")[\"is_man\"].replace(0,-1).fillna(0).to_dict()\n",
    "dummy_gender = dummy_designer.copy()\n",
    "dummy_gender[\"event\"] = \"add_gender\"\n",
    "dummy_gender[\"year\"] = 1990\n",
    "dummy_gender[\"weight\"] = dummy_gender.designer.astype(int).map(gender_dict)\n",
    "dummy_gender.head(2)"
   ]
  },
  {
   "cell_type": "code",
   "execution_count": 13,
   "metadata": {},
   "outputs": [],
   "source": [
    "import csv \n",
    "import seaborn\n",
    "import matplotlib.pyplot as plt\n",
    "\n",
    "game_event = core[[\"year\",\"bgg_id\",\"designer\",\"mechanic\"]].copy()\n",
    "game_event.year = game_event.year.astype(int)\n",
    "game_event.bgg_id = game_event.bgg_id.astype(int)\n",
    "\n",
    "for target in [\"novelty\",\"rating\"]:\n",
    "    game = game_event.copy()\n",
    "    game[\"weight\"] = core[target]\n",
    "    game[\"event\"] = \"game\"\n",
    "\n",
    "    # normalize weights like lerner => scientific impact\n",
    "    average_weight_per_year = game.groupby('year')['weight'].mean().reset_index()\n",
    "    average_weight_per_year.columns = ['year', 'avg_weight']    \n",
    "    game = pd.merge(game, average_weight_per_year, on='year')\n",
    "    game['weight'] = game['weight'] - game['avg_weight']\n",
    "    game['weight'] = game['weight'].fillna(0)\n",
    "    game.drop(columns=['avg_weight'], inplace=True)\n",
    "    \n",
    "    game = game.explode(\"mechanic\").explode(\"designer\")\n",
    "    events = pd.concat([dummy_designer,dummy_mechanic,dummy_gender,game]).copy()\n",
    "    events.bgg_id = events.bgg_id.fillna(-1).map(int).map(str)\n",
    "    events = events.round(2)\n",
    "    events = events.fillna(-1).convert_dtypes()\n",
    "    events = events.sort_values(\"year\")\n",
    "    events = events.sort_values([\"year\",\"event\"],ascending=(True,True))\n",
    "    events = events[[\"year\",\"bgg_id\",\"event\",\"designer\",\"mechanic\",\"weight\"]]\n",
    "\n",
    "    events.to_csv(f\"bgg_two_mode_{target}.csv\",index=False,quoting=csv.QUOTE_NONNUMERIC)"
   ]
  }
 ],
 "metadata": {
  "kernelspec": {
   "display_name": "scrapy",
   "language": "python",
   "name": "python3"
  },
  "language_info": {
   "codemirror_mode": {
    "name": "ipython",
    "version": 3
   },
   "file_extension": ".py",
   "mimetype": "text/x-python",
   "name": "python",
   "nbconvert_exporter": "python",
   "pygments_lexer": "ipython3",
   "version": "3.11.5"
  }
 },
 "nbformat": 4,
 "nbformat_minor": 2
}
